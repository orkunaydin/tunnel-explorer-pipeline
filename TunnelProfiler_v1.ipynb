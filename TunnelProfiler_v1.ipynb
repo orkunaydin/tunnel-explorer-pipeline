{
 "cells": [
  {
   "cell_type": "markdown",
   "id": "8c866a90-8959-4489-b16f-a44b68c2a1c8",
   "metadata": {},
   "source": [
    "# Investigation of Water Tunnels leading to Manganese-Cluster in Photosystem II"
   ]
  },
  {
   "cell_type": "markdown",
   "id": "70dcd637-3a22-4deb-b2b4-f75d82e13585",
   "metadata": {},
   "source": [
    "## Calculation, profiling and visualisation of the tunnels"
   ]
  },
  {
   "cell_type": "markdown",
   "id": "5cdef356-4cd0-431d-b7eb-9ad472bf3f21",
   "metadata": {},
   "source": [
    "### The calculation of the tunnels were made using Caver 3.0 (https://caver.cz/)"
   ]
  },
  {
   "cell_type": "code",
   "execution_count": 38,
   "id": "99a1a8ff-5407-414d-865b-eb88dd96a5bd",
   "metadata": {
    "tags": []
   },
   "outputs": [],
   "source": [
    "import pandas as pd"
   ]
  },
  {
   "cell_type": "markdown",
   "id": "fa484b4f-e4dc-4b64-8343-a3052aa71e39",
   "metadata": {},
   "source": [
    "### The algorithm used provides the analysis of the tunnel characteristics. Analysis parameters must be carefully investigated to determine goodness of the calculation."
   ]
  },
  {
   "cell_type": "code",
   "execution_count": 2,
   "id": "c461526c-264c-4f6a-bc19-cc3363a73ecd",
   "metadata": {},
   "outputs": [],
   "source": [
    "tun_char = pd.read_csv('./analysis/tunnel_characteristics.csv')"
   ]
  },
  {
   "cell_type": "code",
   "execution_count": 39,
   "id": "83809ea0-029c-424d-b3eb-5ff99cc1451a",
   "metadata": {},
   "outputs": [
    {
     "data": {
      "text/html": [
       "<div>\n",
       "<style scoped>\n",
       "    .dataframe tbody tr th:only-of-type {\n",
       "        vertical-align: middle;\n",
       "    }\n",
       "\n",
       "    .dataframe tbody tr th {\n",
       "        vertical-align: top;\n",
       "    }\n",
       "\n",
       "    .dataframe thead th {\n",
       "        text-align: right;\n",
       "    }\n",
       "</style>\n",
       "<table border=\"1\" class=\"dataframe\">\n",
       "  <thead>\n",
       "    <tr style=\"text-align: right;\">\n",
       "      <th></th>\n",
       "      <th>Snapshot</th>\n",
       "      <th>Tunnel cluster</th>\n",
       "      <th>Tunnel</th>\n",
       "      <th>Throughput</th>\n",
       "      <th>Cost</th>\n",
       "      <th>Bottleneck radius</th>\n",
       "      <th>Bottleneck R error bound</th>\n",
       "      <th>Length</th>\n",
       "      <th>Curvature</th>\n",
       "    </tr>\n",
       "  </thead>\n",
       "  <tbody>\n",
       "    <tr>\n",
       "      <th>0</th>\n",
       "      <td>7N8O.pdb</td>\n",
       "      <td>1</td>\n",
       "      <td>1</td>\n",
       "      <td>0.310657</td>\n",
       "      <td>1.169067</td>\n",
       "      <td>1.095425</td>\n",
       "      <td>-</td>\n",
       "      <td>37.528636</td>\n",
       "      <td>1.631948</td>\n",
       "    </tr>\n",
       "    <tr>\n",
       "      <th>1</th>\n",
       "      <td>7N8O.pdb</td>\n",
       "      <td>2</td>\n",
       "      <td>2</td>\n",
       "      <td>0.309609</td>\n",
       "      <td>1.172445</td>\n",
       "      <td>1.095425</td>\n",
       "      <td>-</td>\n",
       "      <td>35.746781</td>\n",
       "      <td>1.964500</td>\n",
       "    </tr>\n",
       "    <tr>\n",
       "      <th>2</th>\n",
       "      <td>7N8O.pdb</td>\n",
       "      <td>3</td>\n",
       "      <td>3</td>\n",
       "      <td>0.287397</td>\n",
       "      <td>1.246892</td>\n",
       "      <td>0.972942</td>\n",
       "      <td>-</td>\n",
       "      <td>38.803676</td>\n",
       "      <td>1.436391</td>\n",
       "    </tr>\n",
       "    <tr>\n",
       "      <th>3</th>\n",
       "      <td>7N8O.pdb</td>\n",
       "      <td>4</td>\n",
       "      <td>4</td>\n",
       "      <td>0.275755</td>\n",
       "      <td>1.288244</td>\n",
       "      <td>1.028281</td>\n",
       "      <td>-</td>\n",
       "      <td>38.782050</td>\n",
       "      <td>1.447190</td>\n",
       "    </tr>\n",
       "    <tr>\n",
       "      <th>4</th>\n",
       "      <td>7N8O.pdb</td>\n",
       "      <td>5</td>\n",
       "      <td>5</td>\n",
       "      <td>0.260571</td>\n",
       "      <td>1.344881</td>\n",
       "      <td>1.095425</td>\n",
       "      <td>-</td>\n",
       "      <td>42.159341</td>\n",
       "      <td>1.843151</td>\n",
       "    </tr>\n",
       "  </tbody>\n",
       "</table>\n",
       "</div>"
      ],
      "text/plain": [
       "   Snapshot   Tunnel cluster   Tunnel   Throughput      Cost  \\\n",
       "0  7N8O.pdb                1        1     0.310657  1.169067   \n",
       "1  7N8O.pdb                2        2     0.309609  1.172445   \n",
       "2  7N8O.pdb                3        3     0.287397  1.246892   \n",
       "3  7N8O.pdb                4        4     0.275755  1.288244   \n",
       "4  7N8O.pdb                5        5     0.260571  1.344881   \n",
       "\n",
       "    Bottleneck radius  Bottleneck R error bound     Length   Curvature  \n",
       "0            1.095425                         -  37.528636    1.631948  \n",
       "1            1.095425                         -  35.746781    1.964500  \n",
       "2            0.972942                         -  38.803676    1.436391  \n",
       "3            1.028281                         -  38.782050    1.447190  \n",
       "4            1.095425                         -  42.159341    1.843151  "
      ]
     },
     "execution_count": 39,
     "metadata": {},
     "output_type": "execute_result"
    }
   ],
   "source": [
    "tun_char.head()"
   ]
  },
  {
   "cell_type": "code",
   "execution_count": 40,
   "id": "8a975eef-d66f-45f2-bad5-9e866da4cf5d",
   "metadata": {},
   "outputs": [
    {
     "data": {
      "text/plain": [
       "Index(['Snapshot', ' Tunnel cluster', ' Tunnel', ' Throughput', ' Cost',\n",
       "       ' Bottleneck radius', ' Bottleneck R error bound', ' Length',\n",
       "       ' Curvature'],\n",
       "      dtype='object')"
      ]
     },
     "execution_count": 40,
     "metadata": {},
     "output_type": "execute_result"
    }
   ],
   "source": [
    "tun_char.keys()"
   ]
  },
  {
   "cell_type": "markdown",
   "id": "1a8ba77b-6712-40d2-94d2-d74123960a41",
   "metadata": {},
   "source": [
    "### Tunnel lengths and bottleneck radius are the two most important parameters providing insights for the water permeation from the protein surface into to the active center."
   ]
  },
  {
   "cell_type": "code",
   "execution_count": 42,
   "id": "0dd4fa7d-b4af-4fc1-bf59-9520da62d542",
   "metadata": {},
   "outputs": [
    {
     "data": {
      "text/plain": [
       "<AxesSubplot:xlabel=' Tunnel'>"
      ]
     },
     "execution_count": 42,
     "metadata": {},
     "output_type": "execute_result"
    },
    {
     "data": {
      "image/png": "[encoded data removed]",
      "text/plain": [
       "<Figure size 720x504 with 2 Axes>"
      ]
     },
     "metadata": {
      "needs_background": "light"
     },
     "output_type": "display_data"
    }
   ],
   "source": [
    "fig, ax = plt.subplots(nrows=2, ncols=1)\n",
    "tun_char.plot(x=' Tunnel', y=' Length', ax = ax[0], kind= 'bar', figsize=(10,7))\n",
    "tun_char.plot(x=' Tunnel', y=' Bottleneck radius', ax = ax[1], kind= 'bar',figsize=(10,7))"
   ]
  },
  {
   "cell_type": "markdown",
   "id": "7e76bde4-7fd2-49ce-91ff-515fe72810e4",
   "metadata": {},
   "source": [
    "### Curvature vs. Length shows the complexity of the water channel systems. Whereas a linear relationship betweeb cost and length is necessary to investigate possible flaws of the algorithm. More investigation is needed to define a relationship between this parameters and the goodnes of the calculation."
   ]
  },
  {
   "cell_type": "code",
   "execution_count": 45,
   "id": "89d5a3d5-6a5f-4857-93fe-ff79ca13bda7",
   "metadata": {
    "tags": []
   },
   "outputs": [
    {
     "data": {
      "text/plain": [
       "<AxesSubplot:xlabel=' Length'>"
      ]
     },
     "execution_count": 45,
     "metadata": {},
     "output_type": "execute_result"
    },
    {
     "data": {
      "image/png": "[encoded data removed]",
      "text/plain": [
       "<Figure size 720x504 with 2 Axes>"
      ]
     },
     "metadata": {
      "needs_background": "light"
     },
     "output_type": "display_data"
    }
   ],
   "source": [
    "fig, ax = plt.subplots(nrows=2, ncols=1)\n",
    "tun_char.plot(x=' Length', y=' Curvature', ax = ax[0], kind= 'scatter', figsize=(10,7))\n",
    "tun_char.plot(x=' Length', y=' Cost', ax = ax[1], kind= 'bar',figsize=(10,7))"
   ]
  },
  {
   "cell_type": "markdown",
   "id": "8d600ea4-a988-4d3b-84ba-1178aead58fe",
   "metadata": {},
   "source": [
    "### Bottlenecks are the narrowest region on the water propagation pathway. The residues around these regions are of particular interest in site-specific mutation studies. By mutation of these residues, water access can be increased or decreased which may have an effect in the efficiency of the active center."
   ]
  },
  {
   "cell_type": "code",
   "execution_count": 43,
   "id": "baffd64a-0203-4e7a-84d3-bf114399e28f",
   "metadata": {},
   "outputs": [
    {
     "data": {
      "text/plain": [
       "Index(['Snapshot', 'Tunnel cluster', 'Tunnel', 'Throughput', 'Cost',\n",
       "       'Bottleneck X', 'Bottleneck Y', 'Bottleneck Z', 'Bottleneck R',\n",
       "       'Bottleneck residues'],\n",
       "      dtype='object')"
      ]
     },
     "execution_count": 43,
     "metadata": {},
     "output_type": "execute_result"
    }
   ],
   "source": [
    "bneck = pd.read_csv('./analysis/bottlenecks_edit.csv')\n",
    "#bneck.head()\n",
    "bneck.keys()"
   ]
  },
  {
   "cell_type": "code",
   "execution_count": 8,
   "id": "10e43c6e-097f-4a20-99b5-24c5e592a2fd",
   "metadata": {
    "collapsed": true,
    "jupyter": {
     "outputs_hidden": true
    },
    "tags": []
   },
   "outputs": [
    {
     "data": {
      "text/plain": [
       "Snapshot                object\n",
       "Tunnel cluster           int64\n",
       "Tunnel                   int64\n",
       "Throughput             float64\n",
       "Cost                   float64\n",
       "Bottleneck X           float64\n",
       "Bottleneck Y           float64\n",
       "Bottleneck Z           float64\n",
       "Bottleneck R           float64\n",
       "Bottleneck residues     object\n",
       "dtype: object"
      ]
     },
     "execution_count": 8,
     "metadata": {},
     "output_type": "execute_result"
    }
   ],
   "source": [
    "bneck.dtypes"
   ]
  },
  {
   "cell_type": "code",
   "execution_count": 9,
   "id": "5ba59c36-0efe-4863-9d5a-41f13083c0d2",
   "metadata": {},
   "outputs": [
    {
     "data": {
      "text/html": [
       "<div>\n",
       "<style scoped>\n",
       "    .dataframe tbody tr th:only-of-type {\n",
       "        vertical-align: middle;\n",
       "    }\n",
       "\n",
       "    .dataframe tbody tr th {\n",
       "        vertical-align: top;\n",
       "    }\n",
       "\n",
       "    .dataframe thead th {\n",
       "        text-align: right;\n",
       "    }\n",
       "</style>\n",
       "<table border=\"1\" class=\"dataframe\">\n",
       "  <thead>\n",
       "    <tr style=\"text-align: right;\">\n",
       "      <th></th>\n",
       "      <th>Snapshot</th>\n",
       "      <th>Tunnel cluster</th>\n",
       "      <th>Tunnel</th>\n",
       "      <th>Throughput</th>\n",
       "      <th>Cost</th>\n",
       "      <th>Bottleneck X</th>\n",
       "      <th>Bottleneck Y</th>\n",
       "      <th>Bottleneck Z</th>\n",
       "      <th>Bottleneck R</th>\n",
       "      <th>Bottleneck residues</th>\n",
       "    </tr>\n",
       "  </thead>\n",
       "  <tbody>\n",
       "    <tr>\n",
       "      <th>0</th>\n",
       "      <td>7N8O.pdb</td>\n",
       "      <td>1</td>\n",
       "      <td>1</td>\n",
       "      <td>0.310657</td>\n",
       "      <td>1.169067</td>\n",
       "      <td>113.602315</td>\n",
       "      <td>164.902152</td>\n",
       "      <td>141.727890</td>\n",
       "      <td>1.095425</td>\n",
       "      <td>A:165,A:344,C:344,A:170,A:343,A:166,A:164,C:34...</td>\n",
       "    </tr>\n",
       "    <tr>\n",
       "      <th>1</th>\n",
       "      <td>7N8O.pdb</td>\n",
       "      <td>2</td>\n",
       "      <td>2</td>\n",
       "      <td>0.309609</td>\n",
       "      <td>1.172445</td>\n",
       "      <td>113.602315</td>\n",
       "      <td>164.902152</td>\n",
       "      <td>141.727890</td>\n",
       "      <td>1.095425</td>\n",
       "      <td>A:165,A:344,C:344,A:170,A:343,A:166,A:164,C:34...</td>\n",
       "    </tr>\n",
       "    <tr>\n",
       "      <th>2</th>\n",
       "      <td>7N8O.pdb</td>\n",
       "      <td>3</td>\n",
       "      <td>3</td>\n",
       "      <td>0.287397</td>\n",
       "      <td>1.246892</td>\n",
       "      <td>118.804842</td>\n",
       "      <td>176.405511</td>\n",
       "      <td>136.663767</td>\n",
       "      <td>0.972942</td>\n",
       "      <td>C:399,A:329,V:159,A:188,A:326,A:325,C:397,A:33...</td>\n",
       "    </tr>\n",
       "    <tr>\n",
       "      <th>3</th>\n",
       "      <td>7N8O.pdb</td>\n",
       "      <td>4</td>\n",
       "      <td>4</td>\n",
       "      <td>0.275755</td>\n",
       "      <td>1.288244</td>\n",
       "      <td>119.105757</td>\n",
       "      <td>161.494591</td>\n",
       "      <td>124.180152</td>\n",
       "      <td>1.028281</td>\n",
       "      <td>A:338,C:326,C:320,C:321,C:319,C:324,C:325,D:350</td>\n",
       "    </tr>\n",
       "    <tr>\n",
       "      <th>4</th>\n",
       "      <td>7N8O.pdb</td>\n",
       "      <td>5</td>\n",
       "      <td>5</td>\n",
       "      <td>0.260571</td>\n",
       "      <td>1.344881</td>\n",
       "      <td>113.602315</td>\n",
       "      <td>164.902152</td>\n",
       "      <td>141.727890</td>\n",
       "      <td>1.095425</td>\n",
       "      <td>A:165,A:344,C:344,A:170,A:343,A:166,A:164,C:34...</td>\n",
       "    </tr>\n",
       "  </tbody>\n",
       "</table>\n",
       "</div>"
      ],
      "text/plain": [
       "   Snapshot  Tunnel cluster  Tunnel  Throughput      Cost  Bottleneck X  \\\n",
       "0  7N8O.pdb               1       1    0.310657  1.169067    113.602315   \n",
       "1  7N8O.pdb               2       2    0.309609  1.172445    113.602315   \n",
       "2  7N8O.pdb               3       3    0.287397  1.246892    118.804842   \n",
       "3  7N8O.pdb               4       4    0.275755  1.288244    119.105757   \n",
       "4  7N8O.pdb               5       5    0.260571  1.344881    113.602315   \n",
       "\n",
       "   Bottleneck Y  Bottleneck Z  Bottleneck R  \\\n",
       "0    164.902152    141.727890      1.095425   \n",
       "1    164.902152    141.727890      1.095425   \n",
       "2    176.405511    136.663767      0.972942   \n",
       "3    161.494591    124.180152      1.028281   \n",
       "4    164.902152    141.727890      1.095425   \n",
       "\n",
       "                                 Bottleneck residues  \n",
       "0  A:165,A:344,C:344,A:170,A:343,A:166,A:164,C:34...  \n",
       "1  A:165,A:344,C:344,A:170,A:343,A:166,A:164,C:34...  \n",
       "2  C:399,A:329,V:159,A:188,A:326,A:325,C:397,A:33...  \n",
       "3    A:338,C:326,C:320,C:321,C:319,C:324,C:325,D:350  \n",
       "4  A:165,A:344,C:344,A:170,A:343,A:166,A:164,C:34...  "
      ]
     },
     "execution_count": 9,
     "metadata": {},
     "output_type": "execute_result"
    }
   ],
   "source": [
    "bneck.head()"
   ]
  },
  {
   "cell_type": "markdown",
   "id": "ac0704b6-6588-4775-a60d-c782554be238",
   "metadata": {},
   "source": [
    "### The syntax should be fixed to be used in nglview."
   ]
  },
  {
   "cell_type": "code",
   "execution_count": 13,
   "id": "0a37cc3b-f977-4b05-a109-e8363a2c4a62",
   "metadata": {},
   "outputs": [
    {
     "data": {
      "text/plain": [
       "'A:165,A:344,C:344,A:170,A:343,A:166,A:164,C:345,A:296'"
      ]
     },
     "execution_count": 13,
     "metadata": {},
     "output_type": "execute_result"
    }
   ],
   "source": [
    "bneck['Bottleneck residues'][0]"
   ]
  },
  {
   "cell_type": "code",
   "execution_count": 52,
   "id": "daf548e2-fd49-4c6d-8aa5-692a2ecc6681",
   "metadata": {},
   "outputs": [
    {
     "data": {
      "text/html": [
       "<div>\n",
       "<style scoped>\n",
       "    .dataframe tbody tr th:only-of-type {\n",
       "        vertical-align: middle;\n",
       "    }\n",
       "\n",
       "    .dataframe tbody tr th {\n",
       "        vertical-align: top;\n",
       "    }\n",
       "\n",
       "    .dataframe thead th {\n",
       "        text-align: right;\n",
       "    }\n",
       "</style>\n",
       "<table border=\"1\" class=\"dataframe\">\n",
       "  <thead>\n",
       "    <tr style=\"text-align: right;\">\n",
       "      <th></th>\n",
       "      <th>Snapshot</th>\n",
       "      <th>Tunnel cluster</th>\n",
       "      <th>Tunnel</th>\n",
       "      <th>Throughput</th>\n",
       "      <th>Cost</th>\n",
       "      <th>Bottleneck X</th>\n",
       "      <th>Bottleneck Y</th>\n",
       "      <th>Bottleneck Z</th>\n",
       "      <th>Bottleneck R</th>\n",
       "      <th>Bottleneck residues</th>\n",
       "      <th>Bottleneck residues_fixed</th>\n",
       "    </tr>\n",
       "  </thead>\n",
       "  <tbody>\n",
       "    <tr>\n",
       "      <th>0</th>\n",
       "      <td>7N8O.pdb</td>\n",
       "      <td>1</td>\n",
       "      <td>1</td>\n",
       "      <td>0.310657</td>\n",
       "      <td>1.169067</td>\n",
       "      <td>113.602315</td>\n",
       "      <td>164.902152</td>\n",
       "      <td>141.727890</td>\n",
       "      <td>1.095425</td>\n",
       "      <td>A:165,A:344,C:344,A:170,A:343,A:166,A:164,C:34...</td>\n",
       "      <td>[A:165, A:344, C:344, A:170, A:343, A:166, A:1...</td>\n",
       "    </tr>\n",
       "    <tr>\n",
       "      <th>1</th>\n",
       "      <td>7N8O.pdb</td>\n",
       "      <td>2</td>\n",
       "      <td>2</td>\n",
       "      <td>0.309609</td>\n",
       "      <td>1.172445</td>\n",
       "      <td>113.602315</td>\n",
       "      <td>164.902152</td>\n",
       "      <td>141.727890</td>\n",
       "      <td>1.095425</td>\n",
       "      <td>A:165,A:344,C:344,A:170,A:343,A:166,A:164,C:34...</td>\n",
       "      <td>[A:165, A:344, C:344, A:170, A:343, A:166, A:1...</td>\n",
       "    </tr>\n",
       "    <tr>\n",
       "      <th>2</th>\n",
       "      <td>7N8O.pdb</td>\n",
       "      <td>3</td>\n",
       "      <td>3</td>\n",
       "      <td>0.287397</td>\n",
       "      <td>1.246892</td>\n",
       "      <td>118.804842</td>\n",
       "      <td>176.405511</td>\n",
       "      <td>136.663767</td>\n",
       "      <td>0.972942</td>\n",
       "      <td>C:399,A:329,V:159,A:188,A:326,A:325,C:397,A:33...</td>\n",
       "      <td>[C:399, A:329, V:159, A:188, A:326, A:325, C:3...</td>\n",
       "    </tr>\n",
       "    <tr>\n",
       "      <th>3</th>\n",
       "      <td>7N8O.pdb</td>\n",
       "      <td>4</td>\n",
       "      <td>4</td>\n",
       "      <td>0.275755</td>\n",
       "      <td>1.288244</td>\n",
       "      <td>119.105757</td>\n",
       "      <td>161.494591</td>\n",
       "      <td>124.180152</td>\n",
       "      <td>1.028281</td>\n",
       "      <td>A:338,C:326,C:320,C:321,C:319,C:324,C:325,D:350</td>\n",
       "      <td>[A:338, C:326, C:320, C:321, C:319, C:324, C:3...</td>\n",
       "    </tr>\n",
       "    <tr>\n",
       "      <th>4</th>\n",
       "      <td>7N8O.pdb</td>\n",
       "      <td>5</td>\n",
       "      <td>5</td>\n",
       "      <td>0.260571</td>\n",
       "      <td>1.344881</td>\n",
       "      <td>113.602315</td>\n",
       "      <td>164.902152</td>\n",
       "      <td>141.727890</td>\n",
       "      <td>1.095425</td>\n",
       "      <td>A:165,A:344,C:344,A:170,A:343,A:166,A:164,C:34...</td>\n",
       "      <td>[A:165, A:344, C:344, A:170, A:343, A:166, A:1...</td>\n",
       "    </tr>\n",
       "  </tbody>\n",
       "</table>\n",
       "</div>"
      ],
      "text/plain": [
       "   Snapshot  Tunnel cluster  Tunnel  Throughput      Cost  Bottleneck X  \\\n",
       "0  7N8O.pdb               1       1    0.310657  1.169067    113.602315   \n",
       "1  7N8O.pdb               2       2    0.309609  1.172445    113.602315   \n",
       "2  7N8O.pdb               3       3    0.287397  1.246892    118.804842   \n",
       "3  7N8O.pdb               4       4    0.275755  1.288244    119.105757   \n",
       "4  7N8O.pdb               5       5    0.260571  1.344881    113.602315   \n",
       "\n",
       "   Bottleneck Y  Bottleneck Z  Bottleneck R  \\\n",
       "0    164.902152    141.727890      1.095425   \n",
       "1    164.902152    141.727890      1.095425   \n",
       "2    176.405511    136.663767      0.972942   \n",
       "3    161.494591    124.180152      1.028281   \n",
       "4    164.902152    141.727890      1.095425   \n",
       "\n",
       "                                 Bottleneck residues  \\\n",
       "0  A:165,A:344,C:344,A:170,A:343,A:166,A:164,C:34...   \n",
       "1  A:165,A:344,C:344,A:170,A:343,A:166,A:164,C:34...   \n",
       "2  C:399,A:329,V:159,A:188,A:326,A:325,C:397,A:33...   \n",
       "3    A:338,C:326,C:320,C:321,C:319,C:324,C:325,D:350   \n",
       "4  A:165,A:344,C:344,A:170,A:343,A:166,A:164,C:34...   \n",
       "\n",
       "                           Bottleneck residues_fixed  \n",
       "0  [A:165, A:344, C:344, A:170, A:343, A:166, A:1...  \n",
       "1  [A:165, A:344, C:344, A:170, A:343, A:166, A:1...  \n",
       "2  [C:399, A:329, V:159, A:188, A:326, A:325, C:3...  \n",
       "3  [A:338, C:326, C:320, C:321, C:319, C:324, C:3...  \n",
       "4  [A:165, A:344, C:344, A:170, A:343, A:166, A:1...  "
      ]
     },
     "execution_count": 52,
     "metadata": {},
     "output_type": "execute_result"
    }
   ],
   "source": [
    "bneck['Bottleneck residues_fixed'] = bneck['Bottleneck residues'].str.split(',') \n",
    "bneck.head()"
   ]
  },
  {
   "cell_type": "code",
   "execution_count": 69,
   "id": "562e137b-d478-4cbc-b88f-b3117c8b84f6",
   "metadata": {},
   "outputs": [],
   "source": [
    "def fixsyntax(word):\n",
    "    str = word.split(':')\n",
    "    str.reverse()\n",
    "    fixed = ':'.join(str)\n",
    "    return fixed"
   ]
  },
  {
   "cell_type": "code",
   "execution_count": 74,
   "id": "da1db40e-a2a7-46b8-80b3-dbe332681a89",
   "metadata": {},
   "outputs": [
    {
     "data": {
      "text/plain": [
       "['165:A',\n",
       " '344:A',\n",
       " '344:C',\n",
       " '170:A',\n",
       " '343:A',\n",
       " '166:A',\n",
       " '164:A',\n",
       " '345:C',\n",
       " '296:A']"
      ]
     },
     "execution_count": 74,
     "metadata": {},
     "output_type": "execute_result"
    }
   ],
   "source": [
    "tun1_bneck_res = [fixsyntax(word) for word in bneck['Bottleneck residues_fixed'][0]]\n",
    "tun1_bneck_res"
   ]
  },
  {
   "cell_type": "markdown",
   "id": "c209e1e8-3b95-41dc-a36d-2bd78cc6482f",
   "metadata": {},
   "source": [
    "### An example visualisation of tunnel 1 and its bottleneck residues"
   ]
  },
  {
   "cell_type": "code",
   "execution_count": 16,
   "id": "ddc24f2f-c30d-40de-b6f3-111bfcd78ebb",
   "metadata": {},
   "outputs": [],
   "source": [
    "import nglview as nv"
   ]
  },
  {
   "cell_type": "markdown",
   "id": "2bec2549-f12a-4348-986b-6e345c4db41b",
   "metadata": {},
   "source": [
    "### Loading the pdb file for tunnel one and the Photosystem II crystal structure."
   ]
  },
  {
   "cell_type": "code",
   "execution_count": 17,
   "id": "d98048e1-337d-4aae-aa3b-a0b226c7cfbd",
   "metadata": {},
   "outputs": [
    {
     "data": {
      "text/plain": [
       "<nglview.component.ComponentViewer at 0x7ff48283c700>"
      ]
     },
     "execution_count": 17,
     "metadata": {},
     "output_type": "execute_result"
    }
   ],
   "source": [
    "with open(\"./data/clusters_timeless/tun_cl_001_1.pdb\") as f:\n",
    "    tun1 = nv.show_file(f, ext=\"pdb\", gui=True)\n",
    "tun1.add_component(nv.PdbIdStructure(\"7N8O\"))"
   ]
  },
  {
   "cell_type": "code",
   "execution_count": 18,
   "id": "df02d64a-08ea-413b-8ac1-fdd5a86affa4",
   "metadata": {
    "jupyter": {
     "source_hidden": true
    },
    "tags": []
   },
   "outputs": [
    {
     "data": {
      "text/plain": [
       "0"
      ]
     },
     "execution_count": 18,
     "metadata": {},
     "output_type": "execute_result"
    }
   ],
   "source": [
    "tun1.n_components"
   ]
  },
  {
   "cell_type": "markdown",
   "id": "55bebe86-ab8d-4c5e-b66e-03d0a1a19889",
   "metadata": {},
   "source": [
    "### Preparing the viewer for visualisation of the tunnel. "
   ]
  },
  {
   "cell_type": "code",
   "execution_count": 19,
   "id": "9f500488-7505-444a-ad83-4cf8f0429415",
   "metadata": {
    "tags": []
   },
   "outputs": [],
   "source": [
    "tun1[0].center()"
   ]
  },
  {
   "cell_type": "code",
   "execution_count": 58,
   "id": "b106a999-4ded-4596-a5b2-8546e1efc32c",
   "metadata": {},
   "outputs": [],
   "source": [
    "tun1[1].clear()\n",
    "tun1[1].add_cartoon()\n",
    "tun1.update_representation(component=1, repr_index=0, opacity=0.1)"
   ]
  },
  {
   "cell_type": "code",
   "execution_count": 78,
   "id": "fffafddd-0048-47d2-9824-96ec3d541155",
   "metadata": {},
   "outputs": [],
   "source": [
    "tun1[1].add_representation('licorice', selection='401:A')\n",
    "for res in tun1_bneck_res:\n",
    "    tun1[1].add_representation('licorice', selection= res)"
   ]
  },
  {
   "cell_type": "markdown",
   "id": "31bcbab9-0075-4d74-a1bf-6bb48014b132",
   "metadata": {},
   "source": [
    "### Adding sphere to the location where the bottleneck resides. "
   ]
  },
  {
   "cell_type": "code",
   "execution_count": 83,
   "id": "3efb7a9b-7f0b-4497-84d0-4f71668752e6",
   "metadata": {},
   "outputs": [
    {
     "data": {
      "text/plain": [
       "<nglview.component.ComponentViewer at 0x7ff4732dad60>"
      ]
     },
     "execution_count": 83,
     "metadata": {},
     "output_type": "execute_result"
    }
   ],
   "source": [
    "tun1.shape.add_sphere([113.602315, 164.902152, 141.727890],[0,0,1], 1.095425)"
   ]
  },
  {
   "cell_type": "code",
   "execution_count": 27,
   "id": "9fb707e4-f62e-4f1e-823e-f8acd97bfd3e",
   "metadata": {},
   "outputs": [],
   "source": [
    "tun1[0].center()"
   ]
  },
  {
   "cell_type": "code",
   "execution_count": 23,
   "id": "f8d3663e-434e-4fa9-9ab1-4d0a52b08494",
   "metadata": {},
   "outputs": [
    {
     "data": {
      "application/vnd.jupyter.widget-view+json": {
       "model_id": "934df3c1f3e04555aff67f6784dfdbfd",
       "version_major": 2,
       "version_minor": 0
      },
      "text/plain": [
       "NGLWidget()"
      ]
     },
     "metadata": {},
     "output_type": "display_data"
    }
   ],
   "source": [
    "tun1"
   ]
  },
  {
   "cell_type": "markdown",
   "id": "2736dd7c-0cf8-4027-98f7-70f9dcaefb5b",
   "metadata": {},
   "source": [
    "### It is possible to write user defined functions to work with the visualisation. In this case the source code should be given as js. A detailed manual can be found here: https://nglviewer.org/ngl/api/manual/index.html"
   ]
  },
  {
   "cell_type": "markdown",
   "id": "a1298d09-8554-4ff8-89f5-036f9f4dc757",
   "metadata": {},
   "source": [
    "### An example code to show residues around a specific ligand in a defined radius."
   ]
  },
  {
   "cell_type": "code",
   "execution_count": 35,
   "id": "abf53228-5b66-4f5b-ba95-3791d24a4078",
   "metadata": {},
   "outputs": [],
   "source": [
    "def residues_around(view, component_index, selection, radius):\n",
    "    js = (\n",
    "        f\"\"\"\n",
    "        // Select the effected component in the view\n",
    "        var system = this.stage.compList[{component_index}];\n",
    "        // Store the selection\n",
    "        var prevSele = system.selection.string;\n",
    "        // Find the selected ligan\n",
    "        system.setSelection(\"{selection}\");\n",
    "        // Select atoms in desired radius within the selection\n",
    "        var around = system.structure.getAtomSetWithinSelection(system.selection, {radius});\n",
    "        \"\"\"\n",
    "        \"\"\"\n",
    "        // Extend the selection to residues including selected atoms\n",
    "        var around_complete = system.structure.getAtomSetWithinGroup(around);\n",
    "        // Add the representation as licorice (this can be changed) !Opacity doesn't work for licorice\n",
    "        system.addRepresentation(\"licorice\", {sele: around_complete.toSeleString(), opacity=0.1});\n",
    "        // Store the selection\n",
    "        system.setSelection(prevSele)\n",
    "        \"\"\"\n",
    "    )\n",
    "    view._execute_js_code(js)"
   ]
  },
  {
   "cell_type": "code",
   "execution_count": 36,
   "id": "9db6e101-0057-4900-9ae3-202852601e67",
   "metadata": {},
   "outputs": [],
   "source": [
    "residues_around(tun1,component_index = 1, selection='401:A', radius = 20)"
   ]
  },
  {
   "cell_type": "code",
   "execution_count": null,
   "id": "0b9c4222-e6e8-4880-a0ac-50c0bb6304e5",
   "metadata": {},
   "outputs": [],
   "source": []
  }
 ],
 "metadata": {
  "kernelspec": {
   "display_name": "Python 3 (ipykernel)",
   "language": "python",
   "name": "python3"
  },
  "language_info": {
   "codemirror_mode": {
    "name": "ipython",
    "version": 3
   },
   "file_extension": ".py",
   "mimetype": "text/x-python",
   "name": "python",
   "nbconvert_exporter": "python",
   "pygments_lexer": "ipython3",
   "version": "3.9.7"
  }
 },
 "nbformat": 4,
 "nbformat_minor": 5
}
